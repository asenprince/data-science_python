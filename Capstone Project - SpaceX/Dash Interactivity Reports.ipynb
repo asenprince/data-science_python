{
 "cells": [
  {
   "cell_type": "code",
   "execution_count": null,
   "id": "2185323f",
   "metadata": {},
   "outputs": [],
   "source": [
    "import wget\n",
    "import pandas as pd\n",
    "import dash"
   ]
  },
  {
   "cell_type": "code",
   "execution_count": null,
   "id": "ff37ce9d",
   "metadata": {},
   "outputs": [],
   "source": [
    "# import the required libraries\n",
    "from dash import html\n",
    "from dash import dcc\n",
    "from dash.dependencies import Input, Output\n",
    "import plotly.express as px"
   ]
  },
  {
   "cell_type": "code",
   "execution_count": null,
   "id": "81cb12a7",
   "metadata": {},
   "outputs": [],
   "source": [
    "data = wget.download(\"https://cf-courses-data.s3.us.cloud-object-storage.appdomain.cloud/IBM-DS0321EN-SkillsNetwork/datasets/spacex_launch_dash.csv\")"
   ]
  },
  {
   "cell_type": "code",
   "execution_count": null,
   "id": "c147dd7b",
   "metadata": {},
   "outputs": [],
   "source": [
    "spacex_df = pd.read_csv(data)\n",
    "spacex_df.columns"
   ]
  },
  {
   "cell_type": "raw",
   "id": "bdefbe8f",
   "metadata": {},
   "source": [
    "spacex_df.groupby(['Launch Site', 'class']).count().reset_index()"
   ]
  },
  {
   "cell_type": "code",
   "execution_count": null,
   "id": "a1045914",
   "metadata": {},
   "outputs": [],
   "source": [
    "px.pie(spacex_df, values='class', names='Launch Site')"
   ]
  },
  {
   "cell_type": "raw",
   "id": "4a686899",
   "metadata": {},
   "source": [
    "\n",
    "fig  = px.pie(df,names = 'class')\n",
    "fig.show()"
   ]
  },
  {
   "cell_type": "code",
   "execution_count": null,
   "id": "29f28109",
   "metadata": {},
   "outputs": [],
   "source": [
    "launch_sites = [i for i in set(spacex_df['Launch Site'])]\n",
    "launch_sites"
   ]
  },
  {
   "cell_type": "code",
   "execution_count": null,
   "id": "fecbaab4",
   "metadata": {},
   "outputs": [],
   "source": [
    "spacex_success_df = spacex_df[spacex_df['class'] == 1].reset_index()\n",
    "spacex_success_df.head()"
   ]
  },
  {
   "cell_type": "code",
   "execution_count": null,
   "id": "bea2dd05",
   "metadata": {},
   "outputs": [],
   "source": [
    "# Assign minimum and maximum payloads\n",
    "max_payload = spacex_df['Payload Mass (kg)'].max()\n",
    "min_payload = spacex_df['Payload Mass (kg)'].min()"
   ]
  },
  {
   "cell_type": "code",
   "execution_count": null,
   "id": "4d2eb396",
   "metadata": {},
   "outputs": [],
   "source": [
    "payload_range = range(7000, 10000)"
   ]
  },
  {
   "cell_type": "code",
   "execution_count": null,
   "id": "b9ace8fc",
   "metadata": {},
   "outputs": [],
   "source": [
    "fdf = spacex_df[spacex_df['Payload Mass (kg)'].isin(payload_range)].reset_index()"
   ]
  },
  {
   "cell_type": "markdown",
   "id": "e475d10a",
   "metadata": {},
   "source": [
    "payload_range =  range(5000, 10000)\n",
    "fdf = spacex_df[spacex_df['Payload Mass (kg)'].apply(lambda x:x in payload_range).reset_index()]"
   ]
  },
  {
   "cell_type": "code",
   "execution_count": null,
   "id": "23e7d618",
   "metadata": {},
   "outputs": [],
   "source": [
    "fig = px.scatter(x='Payload Mass (kg)', y='class', data_frame=spacex_df, color = 'Booster Version Category',\n",
    "                        title = 'Correlation between payload and success for site')\n",
    "fig"
   ]
  },
  {
   "cell_type": "code",
   "execution_count": null,
   "id": "65c96a70",
   "metadata": {},
   "outputs": [],
   "source": [
    "max_payload, min_payload"
   ]
  },
  {
   "cell_type": "code",
   "execution_count": null,
   "id": "011087c7",
   "metadata": {},
   "outputs": [],
   "source": [
    "# Create dash app\n",
    "app = dash.Dash(__name__)"
   ]
  },
  {
   "cell_type": "code",
   "execution_count": null,
   "id": "ae1863ed",
   "metadata": {},
   "outputs": [],
   "source": [
    "# Create the app layout\n",
    "app.layout = html.Div(children = [html.H1('SpaceX Launch Records Dashboard',\n",
    "                                         style = {'textAlign': 'center', \n",
    "                                                 'color': '#503D36',\n",
    "                                                 'font-size': '40'}),\n",
    "                                  # TASK 1: Add a dropdown list to enable Launch Site selection\n",
    "                                  # The default select value is for ALL sites\n",
    "                                  # dcc.Dropdown(id='site-dropdown',...)\n",
    "                                  dcc.Dropdown(id='site-dropdown', \n",
    "                                              options = [\n",
    "                                                  {'label': 'All Sites', 'value': 'ALL'},\n",
    "                                                  {'label': launch_sites[0] , 'value': launch_sites[0]},\n",
    "                                                  {'label': launch_sites[1] , 'value': launch_sites[1]},\n",
    "                                                  {'label': launch_sites[2] , 'value': launch_sites[2]},\n",
    "                                                  {'label': launch_sites[3] , 'value': launch_sites[3]}\n",
    "                                              ],\n",
    "                                               placeholder = 'Select Launch Site',\n",
    "                                               searchable = True,\n",
    "                                              style = {'width': '80%', 'padding': '3px', 'font-size': '20px', 'text-align-last': 'center'}),\n",
    "                                 html.Br(),\n",
    "                                  \n",
    "                                  # TASK 2: Add a pie chart to show the total successful launches count for all sites\n",
    "                                # If a specific launch site was selected, show the Success vs. Failed counts for the site\n",
    "                                 html.Div(dcc.Graph(id='success-pie-chart')),\n",
    "                                 html.Br(),\n",
    "                                 \n",
    "                                  html.P('Payload range (kg)'),\n",
    "                                # TASK 3: Add a slider to select payload range\n",
    "                                #dcc.RangeSlider(id='payload-slider',...)\n",
    "                                  dcc.RangeSlider(min=min_payload, max=max_payload, id = 'payload-slider'),\n",
    "\n",
    "                                # TASK 4: Add a scatter chart to show the correlation between payload and launch success\n",
    "                                  html.Div(dcc.Graph(id='success-payload-scatter-chart')),                                 \n",
    "                                 ])\n"
   ]
  },
  {
   "cell_type": "raw",
   "id": "b62ad9a5",
   "metadata": {},
   "source": [
    "# Callback decorator\n",
    "app.callback(\n",
    "             Output(component_id='carrier-fig', component_property='figure'),\n",
    "              Output(component_id='weather-fig', component_property='figure'),\n",
    "              Output(component_id='nas-fig', component_property='figure'),\n",
    "              Output(component_id='security-fig', component_property='figure'),\n",
    "              Output(component_id='late-fig', component_property='figure')],\n",
    "            Input(component_id='input-year', component_property='value'))"
   ]
  },
  {
   "cell_type": "code",
   "execution_count": null,
   "id": "8e515c2f",
   "metadata": {},
   "outputs": [],
   "source": [
    "# TASK 2:\n",
    "# Add a callback function for `site-dropdown` as input, `success-pie-chart` as output\n",
    "\n",
    "@app.callback(Output(component_id='success-pie-chart', component_property='figure'),\n",
    "              Input(component_id='site-dropdown', component_property='value'))\n",
    "\n",
    "# computations to return the pie chart\n",
    "def get_pie_chart(entered_site):\n",
    "    # condition on whether value is 'ALL' or specific launch site\n",
    "    if entered_site == 'ALL':\n",
    "        fig = px.pie(spacex_df, values = 'class', names = 'Launch Site', title = 'Total Success Launches by Site')\n",
    "    \n",
    "    else:\n",
    "        filtered_df = spacex_df[spacex_df['Launch Site'] == entered_site].reset_index()\n",
    "        fig = px.pie(filtered_df, names = 'class', title = 'Success Launches vrs Failed Launches on Site {}'.format(entered_site))\n",
    "    \n",
    "    return fig\n"
   ]
  },
  {
   "cell_type": "code",
   "execution_count": null,
   "id": "7e1677f5",
   "metadata": {},
   "outputs": [],
   "source": [
    "# TASK 4:\n",
    "# Add a callback function for `site-dropdown` and `payload-slider` as inputs, `success-payload-scatter-chart` as output\n",
    "\n",
    "@app.callback(\n",
    "    Output('success-payload-scatter-chart', 'figure'),\n",
    "    [Input('site-dropdown', 'value'),\n",
    "     Input('payload-slider', 'value')])\n",
    "\n",
    "# Computations to callback fundtions to return the scatter graphs\n",
    "def get_scatter_plot(launch_site, payload_range):\n",
    "    \n",
    "    filtered_df = spacex_df[spacex_df['Payload Mass (kg)'].isin(payload_range)].reset_index()\n",
    "    \n",
    "    if launch_site == 'ALL':\n",
    "        if payload_range:\n",
    "            fig = px.scatter(x='Payload Mass (kg)', y='class', data_frame=spacex_df, color = 'Booster Version Category',\n",
    "                        title='Correlation between payload and success for all sites')\n",
    "        else:\n",
    "            fig = px.scatter(x='Payload Mass (kg)', y='class', data_frame=filtered_df, color='Booster Version Category',\n",
    "                            title='Correlation between payload and success for all sites')\n",
    "    \n",
    "    else:\n",
    "        filtered_df2 = spacex_df[spacex_df['Launch Site'] == launch_site].reset_index()\n",
    "        if payload_range:\n",
    "            fig = px.scatter(x='Payload Mass (kg)', y='class', data_frame=filtered_df2, color = 'Booster Version Category',\n",
    "                        title = 'Correlation between payload and success for {} site'.format(launch_site))\n",
    "        else:\n",
    "            filtered_df3 = filtered_df[spacex_df['Launch Site'] == launch_site].reset_index()\n",
    "            fig = px.scatter(x='Payload Mass (kg)', y='class', data_frame=filtered_df3, color = 'Booster Version Category',\n",
    "                        title = 'Correlation between payload and success for {} site'.format(launch_site))\n",
    "    \n",
    "    return fig"
   ]
  },
  {
   "cell_type": "raw",
   "id": "07b2bc19",
   "metadata": {},
   "source": [
    "payload_range =  range(5000, 10000)\n",
    "fdf = spacex_df[spacex_df['Payload Mass (kg)'].apply(lambda x:x in payload_range).reset_index()]\n",
    "fdf.size"
   ]
  },
  {
   "cell_type": "code",
   "execution_count": null,
   "id": "8bbad3d8",
   "metadata": {},
   "outputs": [],
   "source": [
    "# Run the app\n",
    "if __name__ == '__main__':\n",
    "    app.run_server()"
   ]
  },
  {
   "cell_type": "code",
   "execution_count": null,
   "id": "164319ca",
   "metadata": {},
   "outputs": [],
   "source": [
    "# px.scatter(x='Payload Mass (kg)', y = 'class', data_frame=spacex_df, color='Booster Version Category')"
   ]
  },
  {
   "cell_type": "code",
   "execution_count": null,
   "id": "e4cf557f",
   "metadata": {},
   "outputs": [],
   "source": []
  }
 ],
 "metadata": {
  "kernelspec": {
   "display_name": "Python 3 (ipykernel)",
   "language": "python",
   "name": "python3"
  },
  "language_info": {
   "codemirror_mode": {
    "name": "ipython",
    "version": 3
   },
   "file_extension": ".py",
   "mimetype": "text/x-python",
   "name": "python",
   "nbconvert_exporter": "python",
   "pygments_lexer": "ipython3",
   "version": "3.9.7"
  }
 },
 "nbformat": 4,
 "nbformat_minor": 5
}
