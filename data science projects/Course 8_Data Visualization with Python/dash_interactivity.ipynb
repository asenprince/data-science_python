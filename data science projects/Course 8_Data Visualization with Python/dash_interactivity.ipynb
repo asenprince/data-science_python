{
 "cells": [
  {
   "cell_type": "code",
   "execution_count": null,
   "id": "b4a84b11",
   "metadata": {},
   "outputs": [],
   "source": [
    "!pip install dash"
   ]
  },
  {
   "cell_type": "code",
   "execution_count": null,
   "id": "c81e16b8",
   "metadata": {},
   "outputs": [],
   "source": [
    "!pip install plotly\n",
    "!pip install httpx==0.20 dash plotly"
   ]
  },
  {
   "cell_type": "code",
   "execution_count": null,
   "id": "c54bceba",
   "metadata": {},
   "outputs": [],
   "source": [
    "# importing relevant libraries\n",
    "\n",
    "import dash\n",
    "import pandas as pd\n",
    "from dash import html\n",
    "from dash import dcc\n",
    "import plotly.graph_objects as go\n",
    "import plotly.express as px\n",
    "from dash.dependencies import Input, Output\n",
    "\n"
   ]
  },
  {
   "cell_type": "code",
   "execution_count": null,
   "id": "e74ece7d",
   "metadata": {},
   "outputs": [],
   "source": [
    "# load the airline data into pandas dataframe\n",
    "airline_data = pd.read_csv('Dashboarding/airline_data.csv', \n",
    "                          encoding='ISO-8859-1',\n",
    "                          dtype={'Div1Airport': str, 'Div1TailNum': str,\n",
    "                                'Div2Airport': str, 'Div2TailNum': str})\n",
    "\n",
    "#airline_data.head()"
   ]
  },
  {
   "cell_type": "code",
   "execution_count": null,
   "id": "2907443b",
   "metadata": {},
   "outputs": [],
   "source": [
    "# Create a dash application\n",
    "app = dash.Dash(__name__)"
   ]
  },
  {
   "cell_type": "code",
   "execution_count": null,
   "id": "06ae8ede",
   "metadata": {},
   "outputs": [],
   "source": [
    "# Build dash layout\n",
    "app.layout = html.Div(children=[ html.H1('Flight Delay Statisticts', style={'textAlign': 'center', 'color': '#503d36', 'font-size': 30}),\n",
    "                               html.Div(['Input Year: ', dcc.Input(id='input-year',\n",
    "                                                                 value='2010',\n",
    "                                                                 type='number',\n",
    "                                                                 style={'height': '35px', 'font-size': 30}),],\n",
    "                                       style={'font-size': 30}),\n",
    "                               html.Br(),\n",
    "                               html.Br(),\n",
    "                               # Segment 1\n",
    "                               html.Div([html.Div(dcc.Input(id='carrier-plot')),\n",
    "                                        html.Div(dcc.Input(id='weather-plot'))], style={'display': 'flex'}),\n",
    "                               # Segment 2\n",
    "                               html.Div([html.Div(dcc.Input(id='nas-plot')),\n",
    "                                        html.Div(dcc.Input(id='security-plot'))], style={'display': 'flex'}),\n",
    "                               # Segment 3\n",
    "                               html.Div(html.Div(dcc.Input(id='late-plot'), style={'width': '65%'}))])\n"
   ]
  },
  {
   "cell_type": "code",
   "execution_count": null,
   "id": "19e45c91",
   "metadata": {},
   "outputs": [],
   "source": [
    "# define a funtion for computation\n",
    "''' compute_info function description\n",
    "The function takes in airline data and selected year as an input and performs computation for creating charts and plots.\n",
    "\n",
    "Arguments: \n",
    "        airline_data: Input airline data\n",
    "        entered_year: Input year for which computation needs to be performed\n",
    "\n",
    "Returns:\n",
    "        computed average dataframes for carrier delay, weather delay, NAS delay, security delay and delays caused by late aircraft\n",
    "'''\n",
    "def compute_info(airline_data, entered_year):\n",
    "    # Select the data\n",
    "    df = airline_data[airline_data['Year']==int(entered_year)]\n",
    "    \n",
    "    # compute average delays for the various components\n",
    "    avg_carrier_delay = df.groupby(['Month', 'Reporting Airline'])['CarrierDelay'].mean().reset_index()\n",
    "    avg_weather_delay = df.groupby(['Month', 'Reporting Airline'])['WeatherDelay'].mean().reset_index()\n",
    "    avg_NAS_delay = df.groupby(['Month', 'Reporting Airline'])['NASDelay'].mean().reset_index()\n",
    "    avg_security_delay = df.groupby(['Month', 'Reporting Airline'])['SecurityDelay'].mean().reset_index()\n",
    "    avg_late_delay = df.groupby(['Month', 'Reporting Airline'])['LateAircraftDelay'].mean().reset_index()\n",
    "    \n",
    "    # return the computed averages\n",
    "    return avg_carrier_delay, avg_weather_delay, avg_NAS_delay, avg_security_delay, avg_late_delay\n",
    "\n"
   ]
  },
  {
   "cell_type": "code",
   "execution_count": null,
   "id": "0bc90e95",
   "metadata": {},
   "outputs": [],
   "source": [
    "# Callback decorator\n",
    "app.callback([Output(component_id='carrier-fig', component_property='figure'),\n",
    "              Output(component_id='weather-fig', component_property='figure'),\n",
    "              Output(component_id='nas-fig', component_property='figure'),\n",
    "              Output(component_id='security-fig', component_property='figure'),\n",
    "              Output(component_id='late-fig', component_property='figure')],\n",
    "            Input(component_id='input-year', component_property='value'))"
   ]
  },
  {
   "cell_type": "code",
   "execution_count": null,
   "id": "66442f0b",
   "metadata": {},
   "outputs": [],
   "source": [
    "# Computation of the callback function and return graph\n",
    "def get_graph(entered_year):\n",
    "    \n",
    "    # compute the required information for generating the graph\n",
    "    avg_carrier_delay, avg_weather_delay, avg_NAS_delay, avg_security_delay, avg_late_delay = compute_info(airline_data, entered_year)\n",
    "    \n",
    "    # generate the line graph for the various delays\n",
    "    carrier_fig=px.line(avg_carrier_delay, x='Month', y='CarrierDelays', color='Reporting Airline', title='Average Carrier delays (minutes) by airline')\n",
    "    weather_fig=px.line(avg_weather_delay, x='Month', y='WeatherDelays', color='Reporting Airline', title='Average Weather delays (minutes) by airline')\n",
    "    nas_fig=px.line(avg_NAS_delay, x='Month', y='NASDelays', color='Reporting Airline', title='Average NAS delays (minutes) by airline')\n",
    "    security_fig=px.line(avg_security_delay, x='Month', y='SecurityDelays', color='Reporting Airline', title='Average Security delays (minutes) by airline')\n",
    "    late_fig=px.line(avg_late_delay, x='Month', y='LateAircraftDelays', color='Reporting Airline', title='Average Late Aircraft delays (minutes) by airline')\n",
    "    \n",
    "    # return the plots\n",
    "    return [carrier-fig, weather-fig, nas-fig, security-fig, late-fig]"
   ]
  },
  {
   "cell_type": "code",
   "execution_count": null,
   "id": "6a075c19",
   "metadata": {},
   "outputs": [],
   "source": [
    "# Run the app\n",
    "if __name__ == '__main__':\n",
    "    app.run_server()"
   ]
  },
  {
   "cell_type": "code",
   "execution_count": null,
   "id": "8b7fed96",
   "metadata": {},
   "outputs": [],
   "source": []
  }
 ],
 "metadata": {
  "kernelspec": {
   "display_name": "Python 3 (ipykernel)",
   "language": "python",
   "name": "python3"
  },
  "language_info": {
   "codemirror_mode": {
    "name": "ipython",
    "version": 3
   },
   "file_extension": ".py",
   "mimetype": "text/x-python",
   "name": "python",
   "nbconvert_exporter": "python",
   "pygments_lexer": "ipython3",
   "version": "3.9.7"
  }
 },
 "nbformat": 4,
 "nbformat_minor": 5
}
